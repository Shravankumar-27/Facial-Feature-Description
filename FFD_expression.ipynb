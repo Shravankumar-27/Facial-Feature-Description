{
 "cells": [
  {
   "cell_type": "code",
   "execution_count": 3,
   "metadata": {},
   "outputs": [
    {
     "name": "stdout",
     "output_type": "stream",
     "text": [
      "Requirement already satisfied: deepface in c:\\users\\sharavn\\appdata\\local\\programs\\python\\python39\\lib\\site-packages (0.0.21)\n",
      "Collecting deepface\n",
      "  Using cached deepface-0.0.84-py3-none-any.whl (87 kB)\n",
      "Requirement already satisfied: tensorflow>=1.9.0 in c:\\users\\sharavn\\appdata\\local\\programs\\python\\python39\\lib\\site-packages (from deepface) (2.15.0)\n",
      "Requirement already satisfied: tqdm>=4.30.0 in c:\\users\\sharavn\\appdata\\local\\programs\\python\\python39\\lib\\site-packages (from deepface) (4.66.1)\n",
      "Requirement already satisfied: Pillow>=5.2.0 in c:\\users\\sharavn\\appdata\\local\\programs\\python\\python39\\lib\\site-packages (from deepface) (10.2.0)\n",
      "Requirement already satisfied: mtcnn>=0.1.0 in c:\\users\\sharavn\\appdata\\local\\programs\\python\\python39\\lib\\site-packages (from deepface) (0.1.1)\n",
      "Requirement already satisfied: pandas>=0.23.4 in c:\\users\\sharavn\\appdata\\local\\programs\\python\\python39\\lib\\site-packages (from deepface) (2.2.0)\n",
      "Requirement already satisfied: opencv-python>=4.5.5.64 in c:\\users\\sharavn\\appdata\\local\\programs\\python\\python39\\lib\\site-packages (from deepface) (4.9.0.80)\n",
      "Requirement already satisfied: retina-face>=0.0.1 in c:\\users\\sharavn\\appdata\\local\\programs\\python\\python39\\lib\\site-packages (from deepface) (0.0.14)\n",
      "Requirement already satisfied: keras>=2.2.0 in c:\\users\\sharavn\\appdata\\local\\programs\\python\\python39\\lib\\site-packages (from deepface) (2.15.0)\n",
      "Requirement already satisfied: gunicorn>=20.1.0 in c:\\users\\sharavn\\appdata\\local\\programs\\python\\python39\\lib\\site-packages (from deepface) (21.2.0)\n",
      "Requirement already satisfied: numpy>=1.14.0 in c:\\users\\sharavn\\appdata\\local\\programs\\python\\python39\\lib\\site-packages (from deepface) (1.26.4)\n",
      "Requirement already satisfied: Flask>=1.1.2 in c:\\users\\sharavn\\appdata\\local\\programs\\python\\python39\\lib\\site-packages (from deepface) (3.0.2)\n",
      "Requirement already satisfied: gdown>=3.10.1 in c:\\users\\sharavn\\appdata\\local\\programs\\python\\python39\\lib\\site-packages (from deepface) (5.1.0)\n",
      "Requirement already satisfied: fire>=0.4.0 in c:\\users\\sharavn\\appdata\\local\\programs\\python\\python39\\lib\\site-packages (from deepface) (0.5.0)\n",
      "Requirement already satisfied: termcolor in c:\\users\\sharavn\\appdata\\local\\programs\\python\\python39\\lib\\site-packages (from fire>=0.4.0->deepface) (2.4.0)\n",
      "Requirement already satisfied: six in c:\\users\\sharavn\\appdata\\local\\programs\\python\\python39\\lib\\site-packages (from fire>=0.4.0->deepface) (1.16.0)\n",
      "Requirement already satisfied: Jinja2>=3.1.2 in c:\\users\\sharavn\\appdata\\local\\programs\\python\\python39\\lib\\site-packages (from Flask>=1.1.2->deepface) (3.1.3)\n",
      "Requirement already satisfied: blinker>=1.6.2 in c:\\users\\sharavn\\appdata\\local\\programs\\python\\python39\\lib\\site-packages (from Flask>=1.1.2->deepface) (1.7.0)\n",
      "Requirement already satisfied: Werkzeug>=3.0.0 in c:\\users\\sharavn\\appdata\\local\\programs\\python\\python39\\lib\\site-packages (from Flask>=1.1.2->deepface) (3.0.1)\n",
      "Requirement already satisfied: itsdangerous>=2.1.2 in c:\\users\\sharavn\\appdata\\local\\programs\\python\\python39\\lib\\site-packages (from Flask>=1.1.2->deepface) (2.1.2)\n",
      "Requirement already satisfied: click>=8.1.3 in c:\\users\\sharavn\\appdata\\local\\programs\\python\\python39\\lib\\site-packages (from Flask>=1.1.2->deepface) (8.1.7)\n",
      "Requirement already satisfied: importlib-metadata>=3.6.0 in c:\\users\\sharavn\\appdata\\local\\programs\\python\\python39\\lib\\site-packages (from Flask>=1.1.2->deepface) (7.0.1)\n",
      "Requirement already satisfied: colorama in c:\\users\\sharavn\\appdata\\local\\programs\\python\\python39\\lib\\site-packages (from click>=8.1.3->Flask>=1.1.2->deepface) (0.4.6)\n",
      "Requirement already satisfied: requests[socks] in c:\\users\\sharavn\\appdata\\local\\programs\\python\\python39\\lib\\site-packages (from gdown>=3.10.1->deepface) (2.31.0)\n",
      "Requirement already satisfied: filelock in c:\\users\\sharavn\\appdata\\local\\programs\\python\\python39\\lib\\site-packages (from gdown>=3.10.1->deepface) (3.13.1)\n",
      "Requirement already satisfied: beautifulsoup4 in c:\\users\\sharavn\\appdata\\local\\programs\\python\\python39\\lib\\site-packages (from gdown>=3.10.1->deepface) (4.12.3)\n",
      "Requirement already satisfied: packaging in c:\\users\\sharavn\\appdata\\local\\programs\\python\\python39\\lib\\site-packages (from gunicorn>=20.1.0->deepface) (23.2)\n",
      "Requirement already satisfied: zipp>=0.5 in c:\\users\\sharavn\\appdata\\local\\programs\\python\\python39\\lib\\site-packages (from importlib-metadata>=3.6.0->Flask>=1.1.2->deepface) (3.17.0)\n",
      "Requirement already satisfied: MarkupSafe>=2.0 in c:\\users\\sharavn\\appdata\\local\\programs\\python\\python39\\lib\\site-packages (from Jinja2>=3.1.2->Flask>=1.1.2->deepface) (2.1.5)\n",
      "Requirement already satisfied: pytz>=2020.1 in c:\\users\\sharavn\\appdata\\local\\programs\\python\\python39\\lib\\site-packages (from pandas>=0.23.4->deepface) (2024.1)\n",
      "Requirement already satisfied: tzdata>=2022.7 in c:\\users\\sharavn\\appdata\\local\\programs\\python\\python39\\lib\\site-packages (from pandas>=0.23.4->deepface) (2023.4)\n",
      "Requirement already satisfied: python-dateutil>=2.8.2 in c:\\users\\sharavn\\appdata\\local\\programs\\python\\python39\\lib\\site-packages (from pandas>=0.23.4->deepface) (2.8.2)\n",
      "Requirement already satisfied: tensorflow-intel==2.15.0 in c:\\users\\sharavn\\appdata\\local\\programs\\python\\python39\\lib\\site-packages (from tensorflow>=1.9.0->deepface) (2.15.0)\n",
      "Requirement already satisfied: gast!=0.5.0,!=0.5.1,!=0.5.2,>=0.2.1 in c:\\users\\sharavn\\appdata\\local\\programs\\python\\python39\\lib\\site-packages (from tensorflow-intel==2.15.0->tensorflow>=1.9.0->deepface) (0.5.4)\n",
      "Requirement already satisfied: tensorflow-io-gcs-filesystem>=0.23.1 in c:\\users\\sharavn\\appdata\\local\\programs\\python\\python39\\lib\\site-packages (from tensorflow-intel==2.15.0->tensorflow>=1.9.0->deepface) (0.31.0)\n",
      "Requirement already satisfied: protobuf!=4.21.0,!=4.21.1,!=4.21.2,!=4.21.3,!=4.21.4,!=4.21.5,<5.0.0dev,>=3.20.3 in c:\\users\\sharavn\\appdata\\local\\programs\\python\\python39\\lib\\site-packages (from tensorflow-intel==2.15.0->tensorflow>=1.9.0->deepface) (4.23.4)\n",
      "Requirement already satisfied: setuptools in c:\\users\\sharavn\\appdata\\local\\programs\\python\\python39\\lib\\site-packages (from tensorflow-intel==2.15.0->tensorflow>=1.9.0->deepface) (58.1.0)\n",
      "Requirement already satisfied: google-pasta>=0.1.1 in c:\\users\\sharavn\\appdata\\local\\programs\\python\\python39\\lib\\site-packages (from tensorflow-intel==2.15.0->tensorflow>=1.9.0->deepface) (0.2.0)\n",
      "Requirement already satisfied: libclang>=13.0.0 in c:\\users\\sharavn\\appdata\\local\\programs\\python\\python39\\lib\\site-packages (from tensorflow-intel==2.15.0->tensorflow>=1.9.0->deepface) (16.0.6)\n",
      "Requirement already satisfied: tensorboard<2.16,>=2.15 in c:\\users\\sharavn\\appdata\\local\\programs\\python\\python39\\lib\\site-packages (from tensorflow-intel==2.15.0->tensorflow>=1.9.0->deepface) (2.15.1)\n",
      "Requirement already satisfied: opt-einsum>=2.3.2 in c:\\users\\sharavn\\appdata\\local\\programs\\python\\python39\\lib\\site-packages (from tensorflow-intel==2.15.0->tensorflow>=1.9.0->deepface) (3.3.0)\n",
      "Requirement already satisfied: absl-py>=1.0.0 in c:\\users\\sharavn\\appdata\\local\\programs\\python\\python39\\lib\\site-packages (from tensorflow-intel==2.15.0->tensorflow>=1.9.0->deepface) (2.1.0)\n",
      "Requirement already satisfied: grpcio<2.0,>=1.24.3 in c:\\users\\sharavn\\appdata\\local\\programs\\python\\python39\\lib\\site-packages (from tensorflow-intel==2.15.0->tensorflow>=1.9.0->deepface) (1.60.1)\n",
      "Requirement already satisfied: flatbuffers>=23.5.26 in c:\\users\\sharavn\\appdata\\local\\programs\\python\\python39\\lib\\site-packages (from tensorflow-intel==2.15.0->tensorflow>=1.9.0->deepface) (23.5.26)\n",
      "Requirement already satisfied: h5py>=2.9.0 in c:\\users\\sharavn\\appdata\\local\\programs\\python\\python39\\lib\\site-packages (from tensorflow-intel==2.15.0->tensorflow>=1.9.0->deepface) (3.10.0)\n",
      "Requirement already satisfied: ml-dtypes~=0.2.0 in c:\\users\\sharavn\\appdata\\local\\programs\\python\\python39\\lib\\site-packages (from tensorflow-intel==2.15.0->tensorflow>=1.9.0->deepface) (0.2.0)\n",
      "Requirement already satisfied: tensorflow-estimator<2.16,>=2.15.0 in c:\\users\\sharavn\\appdata\\local\\programs\\python\\python39\\lib\\site-packages (from tensorflow-intel==2.15.0->tensorflow>=1.9.0->deepface) (2.15.0)\n",
      "Requirement already satisfied: typing-extensions>=3.6.6 in c:\\users\\sharavn\\appdata\\local\\programs\\python\\python39\\lib\\site-packages (from tensorflow-intel==2.15.0->tensorflow>=1.9.0->deepface) (4.9.0)\n",
      "Requirement already satisfied: astunparse>=1.6.0 in c:\\users\\sharavn\\appdata\\local\\programs\\python\\python39\\lib\\site-packages (from tensorflow-intel==2.15.0->tensorflow>=1.9.0->deepface) (1.6.3)\n",
      "Requirement already satisfied: wrapt<1.15,>=1.11.0 in c:\\users\\sharavn\\appdata\\local\\programs\\python\\python39\\lib\\site-packages (from tensorflow-intel==2.15.0->tensorflow>=1.9.0->deepface) (1.14.1)\n",
      "Requirement already satisfied: wheel<1.0,>=0.23.0 in c:\\users\\sharavn\\appdata\\local\\programs\\python\\python39\\lib\\site-packages (from astunparse>=1.6.0->tensorflow-intel==2.15.0->tensorflow>=1.9.0->deepface) (0.42.0)\n",
      "Requirement already satisfied: tensorboard-data-server<0.8.0,>=0.7.0 in c:\\users\\sharavn\\appdata\\local\\programs\\python\\python39\\lib\\site-packages (from tensorboard<2.16,>=2.15->tensorflow-intel==2.15.0->tensorflow>=1.9.0->deepface) (0.7.2)\n",
      "Requirement already satisfied: google-auth-oauthlib<2,>=0.5 in c:\\users\\sharavn\\appdata\\local\\programs\\python\\python39\\lib\\site-packages (from tensorboard<2.16,>=2.15->tensorflow-intel==2.15.0->tensorflow>=1.9.0->deepface) (1.2.0)\n",
      "Requirement already satisfied: google-auth<3,>=1.6.3 in c:\\users\\sharavn\\appdata\\local\\programs\\python\\python39\\lib\\site-packages (from tensorboard<2.16,>=2.15->tensorflow-intel==2.15.0->tensorflow>=1.9.0->deepface) (2.27.0)\n",
      "Requirement already satisfied: markdown>=2.6.8 in c:\\users\\sharavn\\appdata\\local\\programs\\python\\python39\\lib\\site-packages (from tensorboard<2.16,>=2.15->tensorflow-intel==2.15.0->tensorflow>=1.9.0->deepface) (3.5.2)\n",
      "Requirement already satisfied: cachetools<6.0,>=2.0.0 in c:\\users\\sharavn\\appdata\\local\\programs\\python\\python39\\lib\\site-packages (from google-auth<3,>=1.6.3->tensorboard<2.16,>=2.15->tensorflow-intel==2.15.0->tensorflow>=1.9.0->deepface) (5.3.2)\n",
      "Requirement already satisfied: rsa<5,>=3.1.4 in c:\\users\\sharavn\\appdata\\local\\programs\\python\\python39\\lib\\site-packages (from google-auth<3,>=1.6.3->tensorboard<2.16,>=2.15->tensorflow-intel==2.15.0->tensorflow>=1.9.0->deepface) (4.9)\n",
      "Requirement already satisfied: pyasn1-modules>=0.2.1 in c:\\users\\sharavn\\appdata\\local\\programs\\python\\python39\\lib\\site-packages (from google-auth<3,>=1.6.3->tensorboard<2.16,>=2.15->tensorflow-intel==2.15.0->tensorflow>=1.9.0->deepface) (0.3.0)\n",
      "Requirement already satisfied: requests-oauthlib>=0.7.0 in c:\\users\\sharavn\\appdata\\local\\programs\\python\\python39\\lib\\site-packages (from google-auth-oauthlib<2,>=0.5->tensorboard<2.16,>=2.15->tensorflow-intel==2.15.0->tensorflow>=1.9.0->deepface) (1.3.1)\n",
      "Requirement already satisfied: pyasn1<0.6.0,>=0.4.6 in c:\\users\\sharavn\\appdata\\local\\programs\\python\\python39\\lib\\site-packages (from pyasn1-modules>=0.2.1->google-auth<3,>=1.6.3->tensorboard<2.16,>=2.15->tensorflow-intel==2.15.0->tensorflow>=1.9.0->deepface) (0.5.1)\n",
      "Requirement already satisfied: urllib3<3,>=1.21.1 in c:\\users\\sharavn\\appdata\\local\\programs\\python\\python39\\lib\\site-packages (from requests[socks]->gdown>=3.10.1->deepface) (2.2.0)\n",
      "Requirement already satisfied: idna<4,>=2.5 in c:\\users\\sharavn\\appdata\\local\\programs\\python\\python39\\lib\\site-packages (from requests[socks]->gdown>=3.10.1->deepface) (3.6)\n",
      "Requirement already satisfied: certifi>=2017.4.17 in c:\\users\\sharavn\\appdata\\local\\programs\\python\\python39\\lib\\site-packages (from requests[socks]->gdown>=3.10.1->deepface) (2024.2.2)\n",
      "Requirement already satisfied: charset-normalizer<4,>=2 in c:\\users\\sharavn\\appdata\\local\\programs\\python\\python39\\lib\\site-packages (from requests[socks]->gdown>=3.10.1->deepface) (3.3.2)\n",
      "Requirement already satisfied: oauthlib>=3.0.0 in c:\\users\\sharavn\\appdata\\local\\programs\\python\\python39\\lib\\site-packages (from requests-oauthlib>=0.7.0->google-auth-oauthlib<2,>=0.5->tensorboard<2.16,>=2.15->tensorflow-intel==2.15.0->tensorflow>=1.9.0->deepface) (3.2.2)\n",
      "Requirement already satisfied: soupsieve>1.2 in c:\\users\\sharavn\\appdata\\local\\programs\\python\\python39\\lib\\site-packages (from beautifulsoup4->gdown>=3.10.1->deepface) (2.5)\n",
      "Requirement already satisfied: PySocks!=1.5.7,>=1.5.6 in c:\\users\\sharavn\\appdata\\local\\programs\\python\\python39\\lib\\site-packages (from requests[socks]->gdown>=3.10.1->deepface) (1.7.1)\n",
      "Installing collected packages: deepface\n",
      "  Attempting uninstall: deepface\n",
      "    Found existing installation: deepface 0.0.21\n",
      "    Uninstalling deepface-0.0.21:\n",
      "      Successfully uninstalled deepface-0.0.21\n",
      "Successfully installed deepface-0.0.84\n",
      "Note: you may need to restart the kernel to use updated packages.\n"
     ]
    },
    {
     "name": "stderr",
     "output_type": "stream",
     "text": [
      "WARNING: You are using pip version 21.2.4; however, version 24.0 is available.\n",
      "You should consider upgrading via the 'c:\\Users\\Sharavn\\AppData\\Local\\Programs\\Python\\Python39\\python.exe -m pip install --upgrade pip' command.\n"
     ]
    }
   ],
   "source": [
    "pip install --upgrade deepface"
   ]
  },
  {
   "cell_type": "code",
   "execution_count": 3,
   "metadata": {},
   "outputs": [
    {
     "name": "stdout",
     "output_type": "stream",
     "text": [
      "WARNING:tensorflow:From c:\\Users\\Sharavn\\AppData\\Local\\Programs\\Python\\Python39\\lib\\site-packages\\keras\\src\\losses.py:2976: The name tf.losses.sparse_softmax_cross_entropy is deprecated. Please use tf.compat.v1.losses.sparse_softmax_cross_entropy instead.\n",
      "\n"
     ]
    }
   ],
   "source": [
    "from deepface import DeepFace"
   ]
  },
  {
   "cell_type": "code",
   "execution_count": 1,
   "metadata": {},
   "outputs": [],
   "source": [
    "import cv2\n",
    "img= cv2.imread(\"crying_women_2.webp\")\n",
    "\n"
   ]
  },
  {
   "cell_type": "code",
   "execution_count": 4,
   "metadata": {},
   "outputs": [
    {
     "name": "stderr",
     "output_type": "stream",
     "text": [
      "Action: emotion:   0%|          | 0/4 [00:00<?, ?it/s]"
     ]
    },
    {
     "name": "stdout",
     "output_type": "stream",
     "text": [
      "24-02-08 20:50:49 - facial_expression_model_weights.h5 will be downloaded...\n"
     ]
    },
    {
     "name": "stderr",
     "output_type": "stream",
     "text": [
      "Downloading...\n",
      "From: https://github.com/serengil/deepface_models/releases/download/v1.0/facial_expression_model_weights.h5\n",
      "To: C:\\Users\\Sharavn\\.deepface\\weights\\facial_expression_model_weights.h5\n",
      "100%|██████████| 5.98M/5.98M [00:01<00:00, 4.58MB/s]\n",
      "Action: age:  25%|██▌       | 1/4 [00:03<00:10,  3.37s/it]    "
     ]
    },
    {
     "name": "stdout",
     "output_type": "stream",
     "text": [
      "24-02-08 20:50:53 - age_model_weights.h5 will be downloaded...\n"
     ]
    },
    {
     "name": "stderr",
     "output_type": "stream",
     "text": [
      "Downloading...\n",
      "From: https://github.com/serengil/deepface_models/releases/download/v1.0/age_model_weights.h5\n",
      "To: C:\\Users\\Sharavn\\.deepface\\weights\\age_model_weights.h5\n",
      "100%|██████████| 539M/539M [02:27<00:00, 3.64MB/s]\n",
      "Action: gender:  50%|█████     | 2/4 [02:33<02:59, 89.72s/it]"
     ]
    },
    {
     "name": "stdout",
     "output_type": "stream",
     "text": [
      "24-02-08 20:53:23 - gender_model_weights.h5 will be downloaded...\n"
     ]
    },
    {
     "name": "stderr",
     "output_type": "stream",
     "text": [
      "Downloading...\n",
      "From: https://github.com/serengil/deepface_models/releases/download/v1.0/gender_model_weights.h5\n",
      "To: C:\\Users\\Sharavn\\.deepface\\weights\\gender_model_weights.h5\n",
      "100%|██████████| 537M/537M [02:44<00:00, 3.26MB/s]\n",
      "Action: race:  75%|███████▌  | 3/4 [05:21<02:05, 125.36s/it]  "
     ]
    },
    {
     "name": "stdout",
     "output_type": "stream",
     "text": [
      "24-02-08 20:56:11 - race_model_single_batch.h5 will be downloaded...\n"
     ]
    },
    {
     "name": "stderr",
     "output_type": "stream",
     "text": [
      "Downloading...\n",
      "From: https://github.com/serengil/deepface_models/releases/download/v1.0/race_model_single_batch.h5\n",
      "To: C:\\Users\\Sharavn\\.deepface\\weights\\race_model_single_batch.h5\n",
      "100%|██████████| 537M/537M [03:17<00:00, 2.72MB/s]\n",
      "Action: race: 100%|██████████| 4/4 [08:41<00:00, 130.40s/it]\n"
     ]
    }
   ],
   "source": [
    "preds= DeepFace.analyze(img)"
   ]
  },
  {
   "cell_type": "code",
   "execution_count": 5,
   "metadata": {},
   "outputs": [
    {
     "data": {
      "text/plain": [
       "[{'emotion': {'angry': 1.3255585267474024,\n",
       "   'disgust': 2.9912879271486496e-06,\n",
       "   'fear': 6.357242899269712,\n",
       "   'happy': 1.3917522363035467e-06,\n",
       "   'sad': 87.84272815671824,\n",
       "   'surprise': 2.699165084973205e-05,\n",
       "   'neutral': 4.474437075920454},\n",
       "  'dominant_emotion': 'sad',\n",
       "  'region': {'x': 235, 'y': 67, 'w': 131, 'h': 131},\n",
       "  'face_confidence': 9.122197075630538,\n",
       "  'age': 30,\n",
       "  'gender': {'Woman': 99.99710321426392, 'Man': 0.002897249214584008},\n",
       "  'dominant_gender': 'Woman',\n",
       "  'race': {'asian': 2.5453900918364525,\n",
       "   'indian': 0.31224461272358894,\n",
       "   'black': 0.028135618777014315,\n",
       "   'white': 87.7299964427948,\n",
       "   'middle eastern': 6.327570974826813,\n",
       "   'latino hispanic': 3.0566614121198654},\n",
       "  'dominant_race': 'white'}]"
      ]
     },
     "execution_count": 5,
     "metadata": {},
     "output_type": "execute_result"
    }
   ],
   "source": [
    "preds"
   ]
  },
  {
   "cell_type": "code",
   "execution_count": null,
   "metadata": {},
   "outputs": [],
   "source": []
  }
 ],
 "metadata": {
  "kernelspec": {
   "display_name": "Python 3",
   "language": "python",
   "name": "python3"
  },
  "language_info": {
   "codemirror_mode": {
    "name": "ipython",
    "version": 3
   },
   "file_extension": ".py",
   "mimetype": "text/x-python",
   "name": "python",
   "nbconvert_exporter": "python",
   "pygments_lexer": "ipython3",
   "version": "3.9.9"
  }
 },
 "nbformat": 4,
 "nbformat_minor": 2
}
